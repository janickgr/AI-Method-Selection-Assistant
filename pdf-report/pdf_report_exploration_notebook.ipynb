{
 "cells": [
  {
   "cell_type": "markdown",
   "id": "ce3337c8",
   "metadata": {},
   "source": [
    "# PDF-Report Exploration Notebook"
   ]
  },
  {
   "cell_type": "code",
   "execution_count": 202,
   "id": "e7946cbf",
   "metadata": {},
   "outputs": [],
   "source": [
    "# Inspired by this tutorial https://towardsdatascience.com/how-to-easily-create-a-pdf-file-with-python-in-3-steps-a70faaf5bed5"
   ]
  },
  {
   "cell_type": "code",
   "execution_count": 59,
   "id": "bd03924a",
   "metadata": {},
   "outputs": [],
   "source": [
    "%%capture\n",
    "%pip install jinja2\n",
    "%pip install pdfkit\n",
    "%pip install datetime"
   ]
  },
  {
   "cell_type": "code",
   "execution_count": 60,
   "id": "458d00be",
   "metadata": {},
   "outputs": [],
   "source": [
    "import jinja2\n",
    "import pdfkit\n",
    "from datetime import datetime\n",
    "import os"
   ]
  },
  {
   "cell_type": "code",
   "execution_count": 61,
   "id": "53e56b48",
   "metadata": {},
   "outputs": [],
   "source": [
    "def make_absolute_path(relative_path):\n",
    "    # Normiere die Pfade, um sicherzustellen, dass sie die richtige Syntax haben\n",
    "    relative_path = os.path.normpath(relative_path)\n",
    "    base_path = os.path.abspath(os.getcwd())\n",
    "\n",
    "    # Verbinde den relativen Pfad mit dem Basispfad\n",
    "    absolute_path = os.path.join(base_path, relative_path)\n",
    "\n",
    "    return absolute_path"
   ]
  },
  {
   "cell_type": "code",
   "execution_count": 62,
   "id": "6905cd87",
   "metadata": {},
   "outputs": [],
   "source": [
    "def export_to_pdf(html_template, css_style, output_pdf, context):\n",
    "    # create an environment for the template_loader\n",
    "    template_loader = jinja2.FileSystemLoader(\"./\")\n",
    "    template_env = jinja2.Environment(loader=template_loader)\n",
    "\n",
    "    # Read template and write in\n",
    "    template = template_env.get_template(html_template)\n",
    "    output_text = template.render(context)\n",
    "\n",
    "    # Export pdf file\n",
    "    config = pdfkit.configuration(wkhtmltopdf='wkhtmltopdf/bin/wkhtmltopdf.exe')\n",
    "    pdfkit.from_string(output_text, output_pdf, configuration=config, css=css_style, options={\"enable-local-file-access\": \"\"})"
   ]
  },
  {
   "cell_type": "code",
   "execution_count": 63,
   "id": "4178d8ef",
   "metadata": {},
   "outputs": [],
   "source": [
    "# Define items to write in html file and built context\n",
    "relative_path = 'assets/hhn-logo.png'\n",
    "hhn_logo = make_absolute_path(relative_path)\n",
    "item1 = \"Johannes\"\n",
    "item2 = \"Yannik\"\n",
    "item3 = \"Tobi\"\n",
    "item4 = \"Yannik\"\n",
    "context = {'item1': item1, 'item2': item2, 'item3': item3, 'item4': item4, 'hhn_logo': hhn_logo}"
   ]
  },
  {
   "cell_type": "code",
   "execution_count": 64,
   "id": "66944c4d",
   "metadata": {},
   "outputs": [],
   "source": [
    "html_template = 'pdf_report.html'\n",
    "css_style = 'style.css'\n",
    "output_pdf = 'pdf_report.pdf'\n",
    "\n",
    "export_to_pdf(html_template, css_style, output_pdf, context)"
   ]
  },
  {
   "cell_type": "code",
   "execution_count": null,
   "id": "4f43e429",
   "metadata": {},
   "outputs": [],
   "source": []
  }
 ],
 "metadata": {
  "kernelspec": {
   "display_name": "Python 3 (ipykernel)",
   "language": "python",
   "name": "python3"
  },
  "language_info": {
   "codemirror_mode": {
    "name": "ipython",
    "version": 3
   },
   "file_extension": ".py",
   "mimetype": "text/x-python",
   "name": "python",
   "nbconvert_exporter": "python",
   "pygments_lexer": "ipython3",
   "version": "3.10.4"
  }
 },
 "nbformat": 4,
 "nbformat_minor": 5
}
