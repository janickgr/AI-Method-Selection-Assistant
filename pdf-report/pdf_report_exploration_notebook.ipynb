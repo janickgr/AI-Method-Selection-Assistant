{
 "cells": [
  {
   "cell_type": "markdown",
   "id": "ce3337c8",
   "metadata": {},
   "source": [
    "# PDF-Report Exploration Notebook"
   ]
  },
  {
   "cell_type": "code",
   "execution_count": 202,
   "id": "e7946cbf",
   "metadata": {},
   "outputs": [],
   "source": [
    "# Inspired by this tutorial https://towardsdatascience.com/how-to-easily-create-a-pdf-file-with-python-in-3-steps-a70faaf5bed5"
   ]
  },
  {
   "cell_type": "code",
   "execution_count": 203,
   "id": "bd03924a",
   "metadata": {},
   "outputs": [
    {
     "name": "stdout",
     "output_type": "stream",
     "text": [
      "Requirement already satisfied: jinja2 in c:\\users\\johan\\appdata\\local\\programs\\python\\python310\\lib\\site-packages (3.1.2)\n",
      "Requirement already satisfied: MarkupSafe>=2.0 in c:\\users\\johan\\appdata\\local\\programs\\python\\python310\\lib\\site-packages (from jinja2) (2.1.1)\n",
      "Note: you may need to restart the kernel to use updated packages.\n"
     ]
    },
    {
     "name": "stderr",
     "output_type": "stream",
     "text": [
      "WARNING: Ignoring invalid distribution -rotobuf (c:\\users\\johan\\appdata\\local\\programs\\python\\python310\\lib\\site-packages)\n",
      "WARNING: Ignoring invalid distribution -rotobuf (c:\\users\\johan\\appdata\\local\\programs\\python\\python310\\lib\\site-packages)\n",
      "WARNING: Ignoring invalid distribution -rotobuf (c:\\users\\johan\\appdata\\local\\programs\\python\\python310\\lib\\site-packages)\n",
      "WARNING: Ignoring invalid distribution -rotobuf (c:\\users\\johan\\appdata\\local\\programs\\python\\python310\\lib\\site-packages)\n",
      "WARNING: Ignoring invalid distribution -rotobuf (c:\\users\\johan\\appdata\\local\\programs\\python\\python310\\lib\\site-packages)\n",
      "WARNING: Ignoring invalid distribution -rotobuf (c:\\users\\johan\\appdata\\local\\programs\\python\\python310\\lib\\site-packages)\n",
      "\n",
      "[notice] A new release of pip is available: 23.0.1 -> 23.1.2\n",
      "[notice] To update, run: python.exe -m pip install --upgrade pip\n"
     ]
    },
    {
     "name": "stdout",
     "output_type": "stream",
     "text": [
      "Requirement already satisfied: pdfkit in c:\\users\\johan\\appdata\\local\\programs\\python\\python310\\lib\\site-packages (1.0.0)\n",
      "Note: you may need to restart the kernel to use updated packages.\n"
     ]
    },
    {
     "name": "stderr",
     "output_type": "stream",
     "text": [
      "WARNING: Ignoring invalid distribution -rotobuf (c:\\users\\johan\\appdata\\local\\programs\\python\\python310\\lib\\site-packages)\n",
      "WARNING: Ignoring invalid distribution -rotobuf (c:\\users\\johan\\appdata\\local\\programs\\python\\python310\\lib\\site-packages)\n",
      "WARNING: Ignoring invalid distribution -rotobuf (c:\\users\\johan\\appdata\\local\\programs\\python\\python310\\lib\\site-packages)\n",
      "WARNING: Ignoring invalid distribution -rotobuf (c:\\users\\johan\\appdata\\local\\programs\\python\\python310\\lib\\site-packages)\n",
      "WARNING: Ignoring invalid distribution -rotobuf (c:\\users\\johan\\appdata\\local\\programs\\python\\python310\\lib\\site-packages)\n",
      "WARNING: Ignoring invalid distribution -rotobuf (c:\\users\\johan\\appdata\\local\\programs\\python\\python310\\lib\\site-packages)\n",
      "\n",
      "[notice] A new release of pip is available: 23.0.1 -> 23.1.2\n",
      "[notice] To update, run: python.exe -m pip install --upgrade pip\n"
     ]
    },
    {
     "name": "stdout",
     "output_type": "stream",
     "text": [
      "Collecting datetime\n",
      "  Downloading DateTime-5.1-py3-none-any.whl (52 kB)\n",
      "     ---------------------------------------- 52.1/52.1 kB 1.4 MB/s eta 0:00:00\n",
      "Requirement already satisfied: pytz in c:\\users\\johan\\appdata\\local\\programs\\python\\python310\\lib\\site-packages (from datetime) (2022.1)\n",
      "Collecting zope.interface\n",
      "  Downloading zope.interface-6.0-cp310-cp310-win_amd64.whl (204 kB)\n",
      "     -------------------------------------- 204.1/204.1 kB 4.1 MB/s eta 0:00:00\n",
      "Requirement already satisfied: setuptools in c:\\users\\johan\\appdata\\local\\programs\\python\\python310\\lib\\site-packages (from zope.interface->datetime) (58.1.0)\n",
      "Installing collected packages: zope.interface, datetime\n",
      "Successfully installed datetime-5.1 zope.interface-6.0\n",
      "Note: you may need to restart the kernel to use updated packages.\n"
     ]
    },
    {
     "name": "stderr",
     "output_type": "stream",
     "text": [
      "WARNING: Ignoring invalid distribution -rotobuf (c:\\users\\johan\\appdata\\local\\programs\\python\\python310\\lib\\site-packages)\n",
      "WARNING: Ignoring invalid distribution -rotobuf (c:\\users\\johan\\appdata\\local\\programs\\python\\python310\\lib\\site-packages)\n",
      "WARNING: Ignoring invalid distribution -rotobuf (c:\\users\\johan\\appdata\\local\\programs\\python\\python310\\lib\\site-packages)\n",
      "WARNING: Ignoring invalid distribution -rotobuf (c:\\users\\johan\\appdata\\local\\programs\\python\\python310\\lib\\site-packages)\n",
      "WARNING: Ignoring invalid distribution -rotobuf (c:\\users\\johan\\appdata\\local\\programs\\python\\python310\\lib\\site-packages)\n",
      "WARNING: Ignoring invalid distribution -rotobuf (c:\\users\\johan\\appdata\\local\\programs\\python\\python310\\lib\\site-packages)\n",
      "WARNING: Ignoring invalid distribution -rotobuf (c:\\users\\johan\\appdata\\local\\programs\\python\\python310\\lib\\site-packages)\n",
      "WARNING: Ignoring invalid distribution -rotobuf (c:\\users\\johan\\appdata\\local\\programs\\python\\python310\\lib\\site-packages)\n",
      "\n",
      "[notice] A new release of pip is available: 23.0.1 -> 23.1.2\n",
      "[notice] To update, run: python.exe -m pip install --upgrade pip\n"
     ]
    }
   ],
   "source": [
    "%pip install jinja2\n",
    "%pip install pdfkit\n",
    "%pip install datetime"
   ]
  },
  {
   "cell_type": "code",
   "execution_count": 204,
   "id": "458d00be",
   "metadata": {},
   "outputs": [],
   "source": [
    "import jinja2\n",
    "import pdfkit\n",
    "from datetime import datetime"
   ]
  },
  {
   "cell_type": "code",
   "execution_count": 205,
   "id": "623b78ff",
   "metadata": {},
   "outputs": [],
   "source": [
    "# Install external library \n",
    "    # macOS\n",
    "    # brew install homebrew/cask/wkhtmltopdf\n",
    "\n",
    "    # windows \n",
    "    # https://wkhtmltopdf.org/downloads.html"
   ]
  },
  {
   "cell_type": "code",
   "execution_count": 206,
   "id": "6905cd87",
   "metadata": {},
   "outputs": [],
   "source": [
    "def export_to_pdf(html_template, css_style, output_pdf, context):\n",
    "    # create an environment for the template_loader\n",
    "    template_loader = jinja2.FileSystemLoader(\"./\")\n",
    "    template_env = jinja2.Environment(loader=template_loader)\n",
    "\n",
    "    # Read template and write in\n",
    "    template = template_env.get_template(html_template)\n",
    "    output_text = template.render(context)\n",
    "\n",
    "    # Export pdf file\n",
    "    config = pdfkit.configuration(wkhtmltopdf='C:/Program Files/wkhtmltopdf/bin/wkhtmltopdf.exe')\n",
    "    pdfkit.from_string(output_text, output_pdf, configuration=config, css=css_style, options={\"enable-local-file-access\": \"\"})"
   ]
  },
  {
   "cell_type": "code",
   "execution_count": 207,
   "id": "4178d8ef",
   "metadata": {},
   "outputs": [],
   "source": [
    "# Define items to write in html file and built context\n",
    "item1 = \"Johannes\"\n",
    "item2 = \"Yannik\"\n",
    "item3 = \"Tobi\"\n",
    "item4 = \"Yannik\"\n",
    "\n",
    "context = {'item1': item1, 'item2': item2, 'item3': item3, 'item4': item4}"
   ]
  },
  {
   "cell_type": "code",
   "execution_count": 208,
   "id": "66944c4d",
   "metadata": {},
   "outputs": [],
   "source": [
    "html_template = 'pdf_report.html'\n",
    "css_style = 'style.css'\n",
    "output_pdf = 'pdf_report.pdf'\n",
    "\n",
    "export_to_pdf(html_template, css_style, output_pdf, context)"
   ]
  },
  {
   "cell_type": "code",
   "execution_count": null,
   "id": "4f43e429",
   "metadata": {},
   "outputs": [],
   "source": []
  }
 ],
 "metadata": {
  "kernelspec": {
   "display_name": "Python 3 (ipykernel)",
   "language": "python",
   "name": "python3"
  },
  "language_info": {
   "codemirror_mode": {
    "name": "ipython",
    "version": 3
   },
   "file_extension": ".py",
   "mimetype": "text/x-python",
   "name": "python",
   "nbconvert_exporter": "python",
   "pygments_lexer": "ipython3",
   "version": "3.10.4"
  }
 },
 "nbformat": 4,
 "nbformat_minor": 5
}
